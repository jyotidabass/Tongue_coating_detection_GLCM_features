{
  "nbformat": 4,
  "nbformat_minor": 0,
  "metadata": {
    "colab": {
      "name": "Tongue_coating_detection_GLCM_features.ipynb",
      "provenance": [],
      "authorship_tag": "ABX9TyPUYiObGIhVqycwlfKbmhnp",
      "include_colab_link": true
    },
    "kernelspec": {
      "name": "python3",
      "display_name": "Python 3"
    },
    "language_info": {
      "name": "python"
    }
  },
  "cells": [
    {
      "cell_type": "markdown",
      "metadata": {
        "id": "view-in-github",
        "colab_type": "text"
      },
      "source": [
        "<a href=\"https://colab.research.google.com/github/jyotidabass/Tongue_coating_detection_GLCM_features/blob/main/Tongue_coating_detection_GLCM_features.ipynb\" target=\"_parent\"><img src=\"https://colab.research.google.com/assets/colab-badge.svg\" alt=\"Open In Colab\"/></a>"
      ]
    },
    {
      "cell_type": "code",
      "execution_count": 28,
      "metadata": {
        "id": "MNrL0vFkMBhM"
      },
      "outputs": [],
      "source": [
        "import cv2\n",
        "import pandas as pd\n",
        "import numpy as np\n",
        "import os\n",
        "from skimage.feature.texture import greycomatrix\n",
        "from skimage.feature.texture import greycoprops\n",
        "from sklearn.preprocessing import MinMaxScaler\n",
        "from sklearn.model_selection import train_test_split\n",
        "from sklearn.model_selection import KFold\n",
        "from sklearn.model_selection import cross_val_score\n",
        "from sklearn.model_selection import GridSearchCV\n",
        "from sklearn.metrics import classification_report\n",
        "from sklearn.metrics import confusion_matrix\n",
        "from sklearn.metrics import accuracy_score\n",
        "from sklearn.svm import SVC\n",
        "from tqdm import tqdm"
      ]
    },
    {
      "cell_type": "code",
      "source": [
        "def get_feature(img):\n",
        "    \n",
        "    img_graymatrix = greycomatrix(img, [1], [0, np.pi/2])\n",
        "#     print(\"img_graymatrix shape: \",img_graymatrix.shape)\n",
        "    \n",
        "    img_contrast = greycoprops(img_graymatrix, 'contrast')\n",
        "#     print(\"img_contrast shape: \", img_contrast.shape)\n",
        "    \n",
        "    img_homogeneity = greycoprops(img_graymatrix, 'homogeneity')\n",
        "#     print(\"img_homogeneity shape: \", img_homogeneity.shape)\n",
        "    \n",
        "    img_correlation = greycoprops(img_graymatrix, 'correlation')\n",
        "#     print(\"img_correlation shape: \", img_correlation.shape)\n",
        "    \n",
        "    \n",
        "    img_contrast_flattened = img_contrast.flatten()\n",
        "    img_homogeneity_flattened = img_homogeneity.flatten()\n",
        "    img_correlation_flattened = img_correlation.flatten()\n",
        "    \n",
        "    features = np.concatenate([img_contrast_flattened, img_homogeneity_flattened, \n",
        "                             img_correlation_flattened])\n",
        "#     print(\"final_feature shape: \",features.shape)\n",
        "    \n",
        "    return(features)"
      ],
      "metadata": {
        "id": "wTWYwEvNYq7D"
      },
      "execution_count": 29,
      "outputs": []
    },
    {
      "cell_type": "code",
      "source": [
        "def feature_extraction(path_to_folder, class_label):\n",
        "    data_list=[]\n",
        "#     count=1\n",
        "    for file_name in tqdm(os.listdir(path_to_folder)):\n",
        "#         if(count>1):\n",
        "#             break\n",
        "        path_to_img = os.path.join(path_to_folder,file_name)\n",
        "        img = cv2.imread(path_to_img, 0) # grayscale image\n",
        "         \n",
        "        if np.shape(img) == ():\n",
        "            continue\n",
        "        \n",
        "        final_feature = get_feature(img)\n",
        "#         print(\"final_feature shape: \",final_feature.shape)\n",
        "#         print(\"final_feature is: \",final_feature)\n",
        "        \n",
        "        final_feature=list(final_feature)\n",
        "        final_feature.insert(0,file_name)\n",
        "        final_feature.insert(1,class_label)\n",
        "        \n",
        "        data_list.append(final_feature)\n",
        "        \n",
        "#         count+=1\n",
        "       \n",
        "    return(data_list)"
      ],
      "metadata": {
        "id": "oxG6XgZ8YroV"
      },
      "execution_count": 30,
      "outputs": []
    },
    {
      "cell_type": "code",
      "source": [
        "from google.colab import drive\n",
        "drive.mount('/content/drive')"
      ],
      "metadata": {
        "colab": {
          "base_uri": "https://localhost:8080/"
        },
        "id": "YfrUwa1SZKqj",
        "outputId": "ac06f934-fe32-42ac-99ce-1f122842571a"
      },
      "execution_count": 16,
      "outputs": [
        {
          "output_type": "stream",
          "name": "stdout",
          "text": [
            "Drive already mounted at /content/drive; to attempt to forcibly remount, call drive.mount(\"/content/drive\", force_remount=True).\n"
          ]
        }
      ]
    },
    {
      "cell_type": "code",
      "source": [
        "Coated_tongue = '/content/drive/MyDrive/Two-class-coated-uncoated/Train/class0'\n",
        "Non_coated_tongue = '/content/drive/MyDrive/Two-class-coated-uncoated/Train/class1'\n",
        "\n",
        "data_list1 = feature_extraction(Coated_tongue, 0)\n",
        "data_list2 = feature_extraction(Non_coated_tongue, 1)\n",
        "\n",
        "df = pd.DataFrame(data_list1)\n",
        "df = df.append(pd.DataFrame(data_list2), ignore_index=True)\n",
        "# #  --------------------------------------------------------------------------------------\n",
        "\n",
        "\n",
        "df.rename(columns = {0: \"image_names\", 1: \"label\"}, inplace = True)"
      ],
      "metadata": {
        "colab": {
          "base_uri": "https://localhost:8080/"
        },
        "id": "lShSYwC5Yxa3",
        "outputId": "0b7336d9-260c-4364-ccea-c53dded452ac"
      },
      "execution_count": 34,
      "outputs": [
        {
          "output_type": "stream",
          "name": "stderr",
          "text": [
            "100%|██████████| 231/231 [00:07<00:00, 31.19it/s]\n",
            "100%|██████████| 234/234 [00:07<00:00, 32.56it/s]\n"
          ]
        }
      ]
    },
    {
      "cell_type": "code",
      "source": [
        "df.head()"
      ],
      "metadata": {
        "colab": {
          "base_uri": "https://localhost:8080/",
          "height": 250
        },
        "id": "YfMWte2LY0lj",
        "outputId": "fa2ac69d-dd52-40be-eded-cf5ec8763b5a"
      },
      "execution_count": 35,
      "outputs": [
        {
          "output_type": "execute_result",
          "data": {
            "text/plain": [
              "                                         image_names  label          2  \\\n",
              "0  0CA41A93-47F3-40CD-9479-8FB4CCFED190 - vinay k...      0  14.848787   \n",
              "1  5E2724F4-504A-4820-8328-EBADDD42AE00 - G D siv...      0   5.107032   \n",
              "2  8B58C21B-2441-480A-A1F1-2043488FF2AA - Sharu M...      0  10.707498   \n",
              "3  8F28F524-4ADC-4D6A-B212-CD01C180EC0F - Anil Ch...      0  13.754650   \n",
              "4  3610B754-C9DD-47BD-BCEF-5757A1EBF5FA - A_JAY D...      0  13.348309   \n",
              "\n",
              "           3         4         5         6         7  \n",
              "0  13.461818  0.320131  0.319495  0.996106  0.996470  \n",
              "1   5.092409  0.489468  0.488068  0.997849  0.997859  \n",
              "2  10.583648  0.348152  0.345095  0.997783  0.997807  \n",
              "3  12.786963  0.326545  0.329048  0.994658  0.995039  \n",
              "4  12.031077  0.388370  0.395029  0.996723  0.997045  "
            ],
            "text/html": [
              "\n",
              "  <div id=\"df-6109b349-f633-4a1f-a1e6-612b544eb222\">\n",
              "    <div class=\"colab-df-container\">\n",
              "      <div>\n",
              "<style scoped>\n",
              "    .dataframe tbody tr th:only-of-type {\n",
              "        vertical-align: middle;\n",
              "    }\n",
              "\n",
              "    .dataframe tbody tr th {\n",
              "        vertical-align: top;\n",
              "    }\n",
              "\n",
              "    .dataframe thead th {\n",
              "        text-align: right;\n",
              "    }\n",
              "</style>\n",
              "<table border=\"1\" class=\"dataframe\">\n",
              "  <thead>\n",
              "    <tr style=\"text-align: right;\">\n",
              "      <th></th>\n",
              "      <th>image_names</th>\n",
              "      <th>label</th>\n",
              "      <th>2</th>\n",
              "      <th>3</th>\n",
              "      <th>4</th>\n",
              "      <th>5</th>\n",
              "      <th>6</th>\n",
              "      <th>7</th>\n",
              "    </tr>\n",
              "  </thead>\n",
              "  <tbody>\n",
              "    <tr>\n",
              "      <th>0</th>\n",
              "      <td>0CA41A93-47F3-40CD-9479-8FB4CCFED190 - vinay k...</td>\n",
              "      <td>0</td>\n",
              "      <td>14.848787</td>\n",
              "      <td>13.461818</td>\n",
              "      <td>0.320131</td>\n",
              "      <td>0.319495</td>\n",
              "      <td>0.996106</td>\n",
              "      <td>0.996470</td>\n",
              "    </tr>\n",
              "    <tr>\n",
              "      <th>1</th>\n",
              "      <td>5E2724F4-504A-4820-8328-EBADDD42AE00 - G D siv...</td>\n",
              "      <td>0</td>\n",
              "      <td>5.107032</td>\n",
              "      <td>5.092409</td>\n",
              "      <td>0.489468</td>\n",
              "      <td>0.488068</td>\n",
              "      <td>0.997849</td>\n",
              "      <td>0.997859</td>\n",
              "    </tr>\n",
              "    <tr>\n",
              "      <th>2</th>\n",
              "      <td>8B58C21B-2441-480A-A1F1-2043488FF2AA - Sharu M...</td>\n",
              "      <td>0</td>\n",
              "      <td>10.707498</td>\n",
              "      <td>10.583648</td>\n",
              "      <td>0.348152</td>\n",
              "      <td>0.345095</td>\n",
              "      <td>0.997783</td>\n",
              "      <td>0.997807</td>\n",
              "    </tr>\n",
              "    <tr>\n",
              "      <th>3</th>\n",
              "      <td>8F28F524-4ADC-4D6A-B212-CD01C180EC0F - Anil Ch...</td>\n",
              "      <td>0</td>\n",
              "      <td>13.754650</td>\n",
              "      <td>12.786963</td>\n",
              "      <td>0.326545</td>\n",
              "      <td>0.329048</td>\n",
              "      <td>0.994658</td>\n",
              "      <td>0.995039</td>\n",
              "    </tr>\n",
              "    <tr>\n",
              "      <th>4</th>\n",
              "      <td>3610B754-C9DD-47BD-BCEF-5757A1EBF5FA - A_JAY D...</td>\n",
              "      <td>0</td>\n",
              "      <td>13.348309</td>\n",
              "      <td>12.031077</td>\n",
              "      <td>0.388370</td>\n",
              "      <td>0.395029</td>\n",
              "      <td>0.996723</td>\n",
              "      <td>0.997045</td>\n",
              "    </tr>\n",
              "  </tbody>\n",
              "</table>\n",
              "</div>\n",
              "      <button class=\"colab-df-convert\" onclick=\"convertToInteractive('df-6109b349-f633-4a1f-a1e6-612b544eb222')\"\n",
              "              title=\"Convert this dataframe to an interactive table.\"\n",
              "              style=\"display:none;\">\n",
              "        \n",
              "  <svg xmlns=\"http://www.w3.org/2000/svg\" height=\"24px\"viewBox=\"0 0 24 24\"\n",
              "       width=\"24px\">\n",
              "    <path d=\"M0 0h24v24H0V0z\" fill=\"none\"/>\n",
              "    <path d=\"M18.56 5.44l.94 2.06.94-2.06 2.06-.94-2.06-.94-.94-2.06-.94 2.06-2.06.94zm-11 1L8.5 8.5l.94-2.06 2.06-.94-2.06-.94L8.5 2.5l-.94 2.06-2.06.94zm10 10l.94 2.06.94-2.06 2.06-.94-2.06-.94-.94-2.06-.94 2.06-2.06.94z\"/><path d=\"M17.41 7.96l-1.37-1.37c-.4-.4-.92-.59-1.43-.59-.52 0-1.04.2-1.43.59L10.3 9.45l-7.72 7.72c-.78.78-.78 2.05 0 2.83L4 21.41c.39.39.9.59 1.41.59.51 0 1.02-.2 1.41-.59l7.78-7.78 2.81-2.81c.8-.78.8-2.07 0-2.86zM5.41 20L4 18.59l7.72-7.72 1.47 1.35L5.41 20z\"/>\n",
              "  </svg>\n",
              "      </button>\n",
              "      \n",
              "  <style>\n",
              "    .colab-df-container {\n",
              "      display:flex;\n",
              "      flex-wrap:wrap;\n",
              "      gap: 12px;\n",
              "    }\n",
              "\n",
              "    .colab-df-convert {\n",
              "      background-color: #E8F0FE;\n",
              "      border: none;\n",
              "      border-radius: 50%;\n",
              "      cursor: pointer;\n",
              "      display: none;\n",
              "      fill: #1967D2;\n",
              "      height: 32px;\n",
              "      padding: 0 0 0 0;\n",
              "      width: 32px;\n",
              "    }\n",
              "\n",
              "    .colab-df-convert:hover {\n",
              "      background-color: #E2EBFA;\n",
              "      box-shadow: 0px 1px 2px rgba(60, 64, 67, 0.3), 0px 1px 3px 1px rgba(60, 64, 67, 0.15);\n",
              "      fill: #174EA6;\n",
              "    }\n",
              "\n",
              "    [theme=dark] .colab-df-convert {\n",
              "      background-color: #3B4455;\n",
              "      fill: #D2E3FC;\n",
              "    }\n",
              "\n",
              "    [theme=dark] .colab-df-convert:hover {\n",
              "      background-color: #434B5C;\n",
              "      box-shadow: 0px 1px 3px 1px rgba(0, 0, 0, 0.15);\n",
              "      filter: drop-shadow(0px 1px 2px rgba(0, 0, 0, 0.3));\n",
              "      fill: #FFFFFF;\n",
              "    }\n",
              "  </style>\n",
              "\n",
              "      <script>\n",
              "        const buttonEl =\n",
              "          document.querySelector('#df-6109b349-f633-4a1f-a1e6-612b544eb222 button.colab-df-convert');\n",
              "        buttonEl.style.display =\n",
              "          google.colab.kernel.accessAllowed ? 'block' : 'none';\n",
              "\n",
              "        async function convertToInteractive(key) {\n",
              "          const element = document.querySelector('#df-6109b349-f633-4a1f-a1e6-612b544eb222');\n",
              "          const dataTable =\n",
              "            await google.colab.kernel.invokeFunction('convertToInteractive',\n",
              "                                                     [key], {});\n",
              "          if (!dataTable) return;\n",
              "\n",
              "          const docLinkHtml = 'Like what you see? Visit the ' +\n",
              "            '<a target=\"_blank\" href=https://colab.research.google.com/notebooks/data_table.ipynb>data table notebook</a>'\n",
              "            + ' to learn more about interactive tables.';\n",
              "          element.innerHTML = '';\n",
              "          dataTable['output_type'] = 'display_data';\n",
              "          await google.colab.output.renderOutput(dataTable, element);\n",
              "          const docLink = document.createElement('div');\n",
              "          docLink.innerHTML = docLinkHtml;\n",
              "          element.appendChild(docLink);\n",
              "        }\n",
              "      </script>\n",
              "    </div>\n",
              "  </div>\n",
              "  "
            ]
          },
          "metadata": {},
          "execution_count": 35
        }
      ]
    },
    {
      "cell_type": "code",
      "source": [
        "df.shape"
      ],
      "metadata": {
        "colab": {
          "base_uri": "https://localhost:8080/"
        },
        "id": "58XI4Z0tY3P9",
        "outputId": "833fdbfe-faf9-4c2c-a206-9934582be228"
      },
      "execution_count": 36,
      "outputs": [
        {
          "output_type": "execute_result",
          "data": {
            "text/plain": [
              "(465, 8)"
            ]
          },
          "metadata": {},
          "execution_count": 36
        }
      ]
    },
    {
      "cell_type": "code",
      "source": [
        "df.to_csv('features.csv', index=False)"
      ],
      "metadata": {
        "id": "CG17eyOWZBHK"
      },
      "execution_count": 37,
      "outputs": []
    },
    {
      "cell_type": "markdown",
      "source": [
        "SVM CLASSIFICATION"
      ],
      "metadata": {
        "id": "WWNeZPTccuvc"
      }
    },
    {
      "cell_type": "code",
      "source": [
        "#df=pd.read_csv('features.csv')"
      ],
      "metadata": {
        "id": "voGxgNANZpbf"
      },
      "execution_count": 38,
      "outputs": []
    },
    {
      "cell_type": "code",
      "source": [
        "array=df.values\n",
        "x_feature=array[:,2:]\n",
        "y_label=array[:,1].astype('int')\n",
        "print(x_feature.shape)\n",
        "print(y_label.shape)"
      ],
      "metadata": {
        "colab": {
          "base_uri": "https://localhost:8080/"
        },
        "id": "ddS8jH77Zu22",
        "outputId": "febb0345-1b4d-467a-f1f4-ee9a4154dd46"
      },
      "execution_count": 39,
      "outputs": [
        {
          "output_type": "stream",
          "name": "stdout",
          "text": [
            "(465, 6)\n",
            "(465,)\n"
          ]
        }
      ]
    },
    {
      "cell_type": "code",
      "source": [
        "X_train,X_test,Y_train,Y_test=train_test_split(x_feature,y_label,test_size=0.10,random_state=7)"
      ],
      "metadata": {
        "id": "jOH5RQj-ZxhK"
      },
      "execution_count": 40,
      "outputs": []
    },
    {
      "cell_type": "code",
      "source": [
        "# Normalise the data after splitting to avoid information leak between train and test set.\n",
        "\n",
        "scaler_norm = MinMaxScaler()\n",
        "\n",
        "X_train = scaler_norm.fit_transform(X_train)\n",
        "X_test = scaler_norm.fit_transform(X_test)"
      ],
      "metadata": {
        "id": "qdOYIykcZ45M"
      },
      "execution_count": 41,
      "outputs": []
    },
    {
      "cell_type": "code",
      "source": [
        "# Random check\n",
        "model_SVC=SVC(kernel='rbf',C=100,gamma=0.001)\n",
        "\n",
        "kfold=KFold(n_splits=10, shuffle=True)\n",
        "cv_results=cross_val_score(model_SVC,X_train,Y_train,cv=kfold,scoring='accuracy')\n",
        "msg=\"%s %f (%f)\" % ('Training Accuracy: ',cv_results.mean(),cv_results.std())\n",
        "print(msg)"
      ],
      "metadata": {
        "colab": {
          "base_uri": "https://localhost:8080/"
        },
        "id": "QdaqomwxZ7pN",
        "outputId": "fc3358e1-dacd-4512-8799-6606e26e8471"
      },
      "execution_count": 42,
      "outputs": [
        {
          "output_type": "stream",
          "name": "stdout",
          "text": [
            "Training Accuracy:  0.471370 (0.050600)\n"
          ]
        }
      ]
    },
    {
      "cell_type": "code",
      "source": [
        "# SVM hypertuning using GridSeachCV\n",
        "model_SVC=SVC()\n",
        "\n",
        "kfold=KFold(n_splits=10)\n",
        "param_grid = {'C': [1, 10, 100, 500, 1000], \n",
        "              'gamma': [1, 0.1, 0.01, 0.001, 0.0001],\n",
        "              'kernel': ['rbf']} \n",
        "\n",
        "grid=GridSearchCV(estimator=model_SVC,param_grid=param_grid,scoring='accuracy',cv=kfold,verbose=3)\n",
        "grid_result=grid.fit(X_train,Y_train)\n",
        "\n",
        "print(\"Best: %f using %s\" % (grid_result.best_score_,grid_result.best_params_))"
      ],
      "metadata": {
        "colab": {
          "base_uri": "https://localhost:8080/"
        },
        "id": "ZvRNWn44Z_Vd",
        "outputId": "2b2b431c-d8c2-4a36-be37-039514edfdf5"
      },
      "execution_count": 43,
      "outputs": [
        {
          "output_type": "stream",
          "name": "stdout",
          "text": [
            "Fitting 10 folds for each of 25 candidates, totalling 250 fits\n",
            "[CV 1/10] END .........C=1, gamma=1, kernel=rbf;, score=0.476 total time=   0.0s\n",
            "[CV 2/10] END .........C=1, gamma=1, kernel=rbf;, score=0.381 total time=   0.0s\n",
            "[CV 3/10] END .........C=1, gamma=1, kernel=rbf;, score=0.333 total time=   0.0s\n",
            "[CV 4/10] END .........C=1, gamma=1, kernel=rbf;, score=0.571 total time=   0.0s\n",
            "[CV 5/10] END .........C=1, gamma=1, kernel=rbf;, score=0.381 total time=   0.0s\n",
            "[CV 6/10] END .........C=1, gamma=1, kernel=rbf;, score=0.500 total time=   0.0s\n",
            "[CV 7/10] END .........C=1, gamma=1, kernel=rbf;, score=0.524 total time=   0.0s\n",
            "[CV 8/10] END .........C=1, gamma=1, kernel=rbf;, score=0.524 total time=   0.0s\n",
            "[CV 9/10] END .........C=1, gamma=1, kernel=rbf;, score=0.439 total time=   0.0s\n",
            "[CV 10/10] END ........C=1, gamma=1, kernel=rbf;, score=0.585 total time=   0.0s\n",
            "[CV 1/10] END .......C=1, gamma=0.1, kernel=rbf;, score=0.452 total time=   0.0s\n",
            "[CV 2/10] END .......C=1, gamma=0.1, kernel=rbf;, score=0.405 total time=   0.0s\n",
            "[CV 3/10] END .......C=1, gamma=0.1, kernel=rbf;, score=0.429 total time=   0.0s\n",
            "[CV 4/10] END .......C=1, gamma=0.1, kernel=rbf;, score=0.405 total time=   0.0s\n",
            "[CV 5/10] END .......C=1, gamma=0.1, kernel=rbf;, score=0.381 total time=   0.0s\n",
            "[CV 6/10] END .......C=1, gamma=0.1, kernel=rbf;, score=0.548 total time=   0.0s\n",
            "[CV 7/10] END .......C=1, gamma=0.1, kernel=rbf;, score=0.524 total time=   0.0s\n",
            "[CV 8/10] END .......C=1, gamma=0.1, kernel=rbf;, score=0.452 total time=   0.0s\n",
            "[CV 9/10] END .......C=1, gamma=0.1, kernel=rbf;, score=0.415 total time=   0.0s\n",
            "[CV 10/10] END ......C=1, gamma=0.1, kernel=rbf;, score=0.561 total time=   0.0s\n",
            "[CV 1/10] END ......C=1, gamma=0.01, kernel=rbf;, score=0.452 total time=   0.0s\n",
            "[CV 2/10] END ......C=1, gamma=0.01, kernel=rbf;, score=0.405 total time=   0.0s\n",
            "[CV 3/10] END ......C=1, gamma=0.01, kernel=rbf;, score=0.429 total time=   0.0s\n",
            "[CV 4/10] END ......C=1, gamma=0.01, kernel=rbf;, score=0.405 total time=   0.0s\n",
            "[CV 5/10] END ......C=1, gamma=0.01, kernel=rbf;, score=0.381 total time=   0.0s\n",
            "[CV 6/10] END ......C=1, gamma=0.01, kernel=rbf;, score=0.548 total time=   0.0s\n",
            "[CV 7/10] END ......C=1, gamma=0.01, kernel=rbf;, score=0.524 total time=   0.0s\n",
            "[CV 8/10] END ......C=1, gamma=0.01, kernel=rbf;, score=0.429 total time=   0.0s\n",
            "[CV 9/10] END ......C=1, gamma=0.01, kernel=rbf;, score=0.415 total time=   0.0s\n",
            "[CV 10/10] END .....C=1, gamma=0.01, kernel=rbf;, score=0.561 total time=   0.0s\n",
            "[CV 1/10] END .....C=1, gamma=0.001, kernel=rbf;, score=0.452 total time=   0.0s\n",
            "[CV 2/10] END .....C=1, gamma=0.001, kernel=rbf;, score=0.405 total time=   0.0s\n",
            "[CV 3/10] END .....C=1, gamma=0.001, kernel=rbf;, score=0.429 total time=   0.0s\n",
            "[CV 4/10] END .....C=1, gamma=0.001, kernel=rbf;, score=0.405 total time=   0.0s\n",
            "[CV 5/10] END .....C=1, gamma=0.001, kernel=rbf;, score=0.381 total time=   0.0s\n",
            "[CV 6/10] END .....C=1, gamma=0.001, kernel=rbf;, score=0.548 total time=   0.0s\n",
            "[CV 7/10] END .....C=1, gamma=0.001, kernel=rbf;, score=0.524 total time=   0.0s\n",
            "[CV 8/10] END .....C=1, gamma=0.001, kernel=rbf;, score=0.429 total time=   0.0s\n",
            "[CV 9/10] END .....C=1, gamma=0.001, kernel=rbf;, score=0.415 total time=   0.0s\n",
            "[CV 10/10] END ....C=1, gamma=0.001, kernel=rbf;, score=0.561 total time=   0.0s\n",
            "[CV 1/10] END ....C=1, gamma=0.0001, kernel=rbf;, score=0.452 total time=   0.0s\n",
            "[CV 2/10] END ....C=1, gamma=0.0001, kernel=rbf;, score=0.405 total time=   0.0s\n",
            "[CV 3/10] END ....C=1, gamma=0.0001, kernel=rbf;, score=0.429 total time=   0.0s\n",
            "[CV 4/10] END ....C=1, gamma=0.0001, kernel=rbf;, score=0.405 total time=   0.0s\n",
            "[CV 5/10] END ....C=1, gamma=0.0001, kernel=rbf;, score=0.381 total time=   0.0s\n",
            "[CV 6/10] END ....C=1, gamma=0.0001, kernel=rbf;, score=0.548 total time=   0.0s\n",
            "[CV 7/10] END ....C=1, gamma=0.0001, kernel=rbf;, score=0.524 total time=   0.0s\n",
            "[CV 8/10] END ....C=1, gamma=0.0001, kernel=rbf;, score=0.429 total time=   0.0s\n",
            "[CV 9/10] END ....C=1, gamma=0.0001, kernel=rbf;, score=0.415 total time=   0.0s\n",
            "[CV 10/10] END ...C=1, gamma=0.0001, kernel=rbf;, score=0.561 total time=   0.0s\n",
            "[CV 1/10] END ........C=10, gamma=1, kernel=rbf;, score=0.476 total time=   0.0s\n",
            "[CV 2/10] END ........C=10, gamma=1, kernel=rbf;, score=0.429 total time=   0.0s\n",
            "[CV 3/10] END ........C=10, gamma=1, kernel=rbf;, score=0.429 total time=   0.0s\n",
            "[CV 4/10] END ........C=10, gamma=1, kernel=rbf;, score=0.595 total time=   0.0s\n",
            "[CV 5/10] END ........C=10, gamma=1, kernel=rbf;, score=0.452 total time=   0.0s\n",
            "[CV 6/10] END ........C=10, gamma=1, kernel=rbf;, score=0.619 total time=   0.0s\n",
            "[CV 7/10] END ........C=10, gamma=1, kernel=rbf;, score=0.524 total time=   0.0s\n",
            "[CV 8/10] END ........C=10, gamma=1, kernel=rbf;, score=0.571 total time=   0.0s\n",
            "[CV 9/10] END ........C=10, gamma=1, kernel=rbf;, score=0.439 total time=   0.0s\n",
            "[CV 10/10] END .......C=10, gamma=1, kernel=rbf;, score=0.488 total time=   0.0s\n",
            "[CV 1/10] END ......C=10, gamma=0.1, kernel=rbf;, score=0.452 total time=   0.0s\n",
            "[CV 2/10] END ......C=10, gamma=0.1, kernel=rbf;, score=0.476 total time=   0.0s\n",
            "[CV 3/10] END ......C=10, gamma=0.1, kernel=rbf;, score=0.357 total time=   0.0s\n",
            "[CV 4/10] END ......C=10, gamma=0.1, kernel=rbf;, score=0.476 total time=   0.0s\n",
            "[CV 5/10] END ......C=10, gamma=0.1, kernel=rbf;, score=0.381 total time=   0.0s\n",
            "[CV 6/10] END ......C=10, gamma=0.1, kernel=rbf;, score=0.548 total time=   0.0s\n",
            "[CV 7/10] END ......C=10, gamma=0.1, kernel=rbf;, score=0.500 total time=   0.0s\n",
            "[CV 8/10] END ......C=10, gamma=0.1, kernel=rbf;, score=0.500 total time=   0.0s\n",
            "[CV 9/10] END ......C=10, gamma=0.1, kernel=rbf;, score=0.415 total time=   0.0s\n",
            "[CV 10/10] END .....C=10, gamma=0.1, kernel=rbf;, score=0.610 total time=   0.0s\n",
            "[CV 1/10] END .....C=10, gamma=0.01, kernel=rbf;, score=0.452 total time=   0.0s\n",
            "[CV 2/10] END .....C=10, gamma=0.01, kernel=rbf;, score=0.405 total time=   0.0s\n",
            "[CV 3/10] END .....C=10, gamma=0.01, kernel=rbf;, score=0.429 total time=   0.0s\n",
            "[CV 4/10] END .....C=10, gamma=0.01, kernel=rbf;, score=0.429 total time=   0.0s\n",
            "[CV 5/10] END .....C=10, gamma=0.01, kernel=rbf;, score=0.381 total time=   0.0s\n",
            "[CV 6/10] END .....C=10, gamma=0.01, kernel=rbf;, score=0.595 total time=   0.0s\n",
            "[CV 7/10] END .....C=10, gamma=0.01, kernel=rbf;, score=0.524 total time=   0.0s\n",
            "[CV 8/10] END .....C=10, gamma=0.01, kernel=rbf;, score=0.429 total time=   0.0s\n",
            "[CV 9/10] END .....C=10, gamma=0.01, kernel=rbf;, score=0.415 total time=   0.0s\n",
            "[CV 10/10] END ....C=10, gamma=0.01, kernel=rbf;, score=0.561 total time=   0.0s\n",
            "[CV 1/10] END ....C=10, gamma=0.001, kernel=rbf;, score=0.452 total time=   0.0s\n",
            "[CV 2/10] END ....C=10, gamma=0.001, kernel=rbf;, score=0.405 total time=   0.0s\n",
            "[CV 3/10] END ....C=10, gamma=0.001, kernel=rbf;, score=0.429 total time=   0.0s\n",
            "[CV 4/10] END ....C=10, gamma=0.001, kernel=rbf;, score=0.405 total time=   0.0s\n",
            "[CV 5/10] END ....C=10, gamma=0.001, kernel=rbf;, score=0.381 total time=   0.0s\n",
            "[CV 6/10] END ....C=10, gamma=0.001, kernel=rbf;, score=0.548 total time=   0.0s\n",
            "[CV 7/10] END ....C=10, gamma=0.001, kernel=rbf;, score=0.524 total time=   0.0s\n",
            "[CV 8/10] END ....C=10, gamma=0.001, kernel=rbf;, score=0.429 total time=   0.0s\n",
            "[CV 9/10] END ....C=10, gamma=0.001, kernel=rbf;, score=0.415 total time=   0.0s\n",
            "[CV 10/10] END ...C=10, gamma=0.001, kernel=rbf;, score=0.561 total time=   0.0s\n",
            "[CV 1/10] END ...C=10, gamma=0.0001, kernel=rbf;, score=0.452 total time=   0.0s\n",
            "[CV 2/10] END ...C=10, gamma=0.0001, kernel=rbf;, score=0.405 total time=   0.0s\n",
            "[CV 3/10] END ...C=10, gamma=0.0001, kernel=rbf;, score=0.429 total time=   0.0s\n",
            "[CV 4/10] END ...C=10, gamma=0.0001, kernel=rbf;, score=0.405 total time=   0.0s\n",
            "[CV 5/10] END ...C=10, gamma=0.0001, kernel=rbf;, score=0.381 total time=   0.0s\n",
            "[CV 6/10] END ...C=10, gamma=0.0001, kernel=rbf;, score=0.548 total time=   0.0s\n",
            "[CV 7/10] END ...C=10, gamma=0.0001, kernel=rbf;, score=0.524 total time=   0.0s\n",
            "[CV 8/10] END ...C=10, gamma=0.0001, kernel=rbf;, score=0.429 total time=   0.0s\n",
            "[CV 9/10] END ...C=10, gamma=0.0001, kernel=rbf;, score=0.415 total time=   0.0s\n",
            "[CV 10/10] END ..C=10, gamma=0.0001, kernel=rbf;, score=0.561 total time=   0.0s\n",
            "[CV 1/10] END .......C=100, gamma=1, kernel=rbf;, score=0.452 total time=   0.0s\n",
            "[CV 2/10] END .......C=100, gamma=1, kernel=rbf;, score=0.429 total time=   0.0s\n",
            "[CV 3/10] END .......C=100, gamma=1, kernel=rbf;, score=0.452 total time=   0.0s\n",
            "[CV 4/10] END .......C=100, gamma=1, kernel=rbf;, score=0.571 total time=   0.0s\n",
            "[CV 5/10] END .......C=100, gamma=1, kernel=rbf;, score=0.452 total time=   0.0s\n",
            "[CV 6/10] END .......C=100, gamma=1, kernel=rbf;, score=0.619 total time=   0.0s\n",
            "[CV 7/10] END .......C=100, gamma=1, kernel=rbf;, score=0.452 total time=   0.0s\n",
            "[CV 8/10] END .......C=100, gamma=1, kernel=rbf;, score=0.524 total time=   0.0s\n",
            "[CV 9/10] END .......C=100, gamma=1, kernel=rbf;, score=0.439 total time=   0.0s\n",
            "[CV 10/10] END ......C=100, gamma=1, kernel=rbf;, score=0.439 total time=   0.0s\n",
            "[CV 1/10] END .....C=100, gamma=0.1, kernel=rbf;, score=0.500 total time=   0.0s\n",
            "[CV 2/10] END .....C=100, gamma=0.1, kernel=rbf;, score=0.429 total time=   0.0s\n",
            "[CV 3/10] END .....C=100, gamma=0.1, kernel=rbf;, score=0.333 total time=   0.0s\n",
            "[CV 4/10] END .....C=100, gamma=0.1, kernel=rbf;, score=0.571 total time=   0.0s\n",
            "[CV 5/10] END .....C=100, gamma=0.1, kernel=rbf;, score=0.452 total time=   0.0s\n",
            "[CV 6/10] END .....C=100, gamma=0.1, kernel=rbf;, score=0.571 total time=   0.0s\n",
            "[CV 7/10] END .....C=100, gamma=0.1, kernel=rbf;, score=0.524 total time=   0.0s\n",
            "[CV 8/10] END .....C=100, gamma=0.1, kernel=rbf;, score=0.595 total time=   0.0s\n",
            "[CV 9/10] END .....C=100, gamma=0.1, kernel=rbf;, score=0.463 total time=   0.0s\n",
            "[CV 10/10] END ....C=100, gamma=0.1, kernel=rbf;, score=0.561 total time=   0.0s\n",
            "[CV 1/10] END ....C=100, gamma=0.01, kernel=rbf;, score=0.452 total time=   0.0s\n",
            "[CV 2/10] END ....C=100, gamma=0.01, kernel=rbf;, score=0.476 total time=   0.0s\n",
            "[CV 3/10] END ....C=100, gamma=0.01, kernel=rbf;, score=0.357 total time=   0.0s\n",
            "[CV 4/10] END ....C=100, gamma=0.01, kernel=rbf;, score=0.452 total time=   0.0s\n",
            "[CV 5/10] END ....C=100, gamma=0.01, kernel=rbf;, score=0.381 total time=   0.0s\n",
            "[CV 6/10] END ....C=100, gamma=0.01, kernel=rbf;, score=0.548 total time=   0.0s\n",
            "[CV 7/10] END ....C=100, gamma=0.01, kernel=rbf;, score=0.476 total time=   0.0s\n",
            "[CV 8/10] END ....C=100, gamma=0.01, kernel=rbf;, score=0.500 total time=   0.0s\n",
            "[CV 9/10] END ....C=100, gamma=0.01, kernel=rbf;, score=0.415 total time=   0.0s\n",
            "[CV 10/10] END ...C=100, gamma=0.01, kernel=rbf;, score=0.634 total time=   0.0s\n",
            "[CV 1/10] END ...C=100, gamma=0.001, kernel=rbf;, score=0.452 total time=   0.0s\n",
            "[CV 2/10] END ...C=100, gamma=0.001, kernel=rbf;, score=0.405 total time=   0.0s\n",
            "[CV 3/10] END ...C=100, gamma=0.001, kernel=rbf;, score=0.429 total time=   0.0s\n",
            "[CV 4/10] END ...C=100, gamma=0.001, kernel=rbf;, score=0.429 total time=   0.0s\n",
            "[CV 5/10] END ...C=100, gamma=0.001, kernel=rbf;, score=0.381 total time=   0.0s\n",
            "[CV 6/10] END ...C=100, gamma=0.001, kernel=rbf;, score=0.595 total time=   0.0s\n",
            "[CV 7/10] END ...C=100, gamma=0.001, kernel=rbf;, score=0.524 total time=   0.0s\n",
            "[CV 8/10] END ...C=100, gamma=0.001, kernel=rbf;, score=0.429 total time=   0.0s\n",
            "[CV 9/10] END ...C=100, gamma=0.001, kernel=rbf;, score=0.415 total time=   0.0s\n",
            "[CV 10/10] END ..C=100, gamma=0.001, kernel=rbf;, score=0.561 total time=   0.0s\n",
            "[CV 1/10] END ..C=100, gamma=0.0001, kernel=rbf;, score=0.452 total time=   0.0s\n",
            "[CV 2/10] END ..C=100, gamma=0.0001, kernel=rbf;, score=0.405 total time=   0.0s\n",
            "[CV 3/10] END ..C=100, gamma=0.0001, kernel=rbf;, score=0.429 total time=   0.0s\n",
            "[CV 4/10] END ..C=100, gamma=0.0001, kernel=rbf;, score=0.405 total time=   0.0s\n",
            "[CV 5/10] END ..C=100, gamma=0.0001, kernel=rbf;, score=0.381 total time=   0.0s\n",
            "[CV 6/10] END ..C=100, gamma=0.0001, kernel=rbf;, score=0.548 total time=   0.0s\n",
            "[CV 7/10] END ..C=100, gamma=0.0001, kernel=rbf;, score=0.524 total time=   0.0s\n",
            "[CV 8/10] END ..C=100, gamma=0.0001, kernel=rbf;, score=0.429 total time=   0.0s\n",
            "[CV 9/10] END ..C=100, gamma=0.0001, kernel=rbf;, score=0.415 total time=   0.0s\n",
            "[CV 10/10] END .C=100, gamma=0.0001, kernel=rbf;, score=0.561 total time=   0.0s\n",
            "[CV 1/10] END .......C=500, gamma=1, kernel=rbf;, score=0.405 total time=   0.0s\n",
            "[CV 2/10] END .......C=500, gamma=1, kernel=rbf;, score=0.333 total time=   0.0s\n",
            "[CV 3/10] END .......C=500, gamma=1, kernel=rbf;, score=0.429 total time=   0.0s\n",
            "[CV 4/10] END .......C=500, gamma=1, kernel=rbf;, score=0.405 total time=   0.0s\n",
            "[CV 5/10] END .......C=500, gamma=1, kernel=rbf;, score=0.429 total time=   0.0s\n",
            "[CV 6/10] END .......C=500, gamma=1, kernel=rbf;, score=0.452 total time=   0.0s\n",
            "[CV 7/10] END .......C=500, gamma=1, kernel=rbf;, score=0.452 total time=   0.0s\n",
            "[CV 8/10] END .......C=500, gamma=1, kernel=rbf;, score=0.524 total time=   0.0s\n",
            "[CV 9/10] END .......C=500, gamma=1, kernel=rbf;, score=0.415 total time=   0.0s\n",
            "[CV 10/10] END ......C=500, gamma=1, kernel=rbf;, score=0.415 total time=   0.0s\n",
            "[CV 1/10] END .....C=500, gamma=0.1, kernel=rbf;, score=0.476 total time=   0.0s\n",
            "[CV 2/10] END .....C=500, gamma=0.1, kernel=rbf;, score=0.429 total time=   0.0s\n",
            "[CV 3/10] END .....C=500, gamma=0.1, kernel=rbf;, score=0.381 total time=   0.0s\n",
            "[CV 4/10] END .....C=500, gamma=0.1, kernel=rbf;, score=0.500 total time=   0.0s\n",
            "[CV 5/10] END .....C=500, gamma=0.1, kernel=rbf;, score=0.452 total time=   0.0s\n",
            "[CV 6/10] END .....C=500, gamma=0.1, kernel=rbf;, score=0.595 total time=   0.0s\n",
            "[CV 7/10] END .....C=500, gamma=0.1, kernel=rbf;, score=0.524 total time=   0.0s\n",
            "[CV 8/10] END .....C=500, gamma=0.1, kernel=rbf;, score=0.571 total time=   0.0s\n",
            "[CV 9/10] END .....C=500, gamma=0.1, kernel=rbf;, score=0.439 total time=   0.0s\n",
            "[CV 10/10] END ....C=500, gamma=0.1, kernel=rbf;, score=0.537 total time=   0.0s\n",
            "[CV 1/10] END ....C=500, gamma=0.01, kernel=rbf;, score=0.476 total time=   0.0s\n",
            "[CV 2/10] END ....C=500, gamma=0.01, kernel=rbf;, score=0.452 total time=   0.0s\n",
            "[CV 3/10] END ....C=500, gamma=0.01, kernel=rbf;, score=0.381 total time=   0.0s\n",
            "[CV 4/10] END ....C=500, gamma=0.01, kernel=rbf;, score=0.429 total time=   0.0s\n",
            "[CV 5/10] END ....C=500, gamma=0.01, kernel=rbf;, score=0.381 total time=   0.0s\n",
            "[CV 6/10] END ....C=500, gamma=0.01, kernel=rbf;, score=0.548 total time=   0.0s\n",
            "[CV 7/10] END ....C=500, gamma=0.01, kernel=rbf;, score=0.452 total time=   0.0s\n",
            "[CV 8/10] END ....C=500, gamma=0.01, kernel=rbf;, score=0.500 total time=   0.0s\n",
            "[CV 9/10] END ....C=500, gamma=0.01, kernel=rbf;, score=0.488 total time=   0.0s\n",
            "[CV 10/10] END ...C=500, gamma=0.01, kernel=rbf;, score=0.634 total time=   0.0s\n",
            "[CV 1/10] END ...C=500, gamma=0.001, kernel=rbf;, score=0.452 total time=   0.0s\n",
            "[CV 2/10] END ...C=500, gamma=0.001, kernel=rbf;, score=0.476 total time=   0.0s\n",
            "[CV 3/10] END ...C=500, gamma=0.001, kernel=rbf;, score=0.429 total time=   0.0s\n",
            "[CV 4/10] END ...C=500, gamma=0.001, kernel=rbf;, score=0.476 total time=   0.0s\n",
            "[CV 5/10] END ...C=500, gamma=0.001, kernel=rbf;, score=0.381 total time=   0.0s\n",
            "[CV 6/10] END ...C=500, gamma=0.001, kernel=rbf;, score=0.524 total time=   0.0s\n",
            "[CV 7/10] END ...C=500, gamma=0.001, kernel=rbf;, score=0.476 total time=   0.0s\n",
            "[CV 8/10] END ...C=500, gamma=0.001, kernel=rbf;, score=0.524 total time=   0.0s\n",
            "[CV 9/10] END ...C=500, gamma=0.001, kernel=rbf;, score=0.415 total time=   0.0s\n",
            "[CV 10/10] END ..C=500, gamma=0.001, kernel=rbf;, score=0.610 total time=   0.0s\n",
            "[CV 1/10] END ..C=500, gamma=0.0001, kernel=rbf;, score=0.452 total time=   0.0s\n",
            "[CV 2/10] END ..C=500, gamma=0.0001, kernel=rbf;, score=0.405 total time=   0.0s\n",
            "[CV 3/10] END ..C=500, gamma=0.0001, kernel=rbf;, score=0.429 total time=   0.0s\n",
            "[CV 4/10] END ..C=500, gamma=0.0001, kernel=rbf;, score=0.405 total time=   0.0s\n",
            "[CV 5/10] END ..C=500, gamma=0.0001, kernel=rbf;, score=0.381 total time=   0.0s\n",
            "[CV 6/10] END ..C=500, gamma=0.0001, kernel=rbf;, score=0.548 total time=   0.0s\n",
            "[CV 7/10] END ..C=500, gamma=0.0001, kernel=rbf;, score=0.524 total time=   0.0s\n",
            "[CV 8/10] END ..C=500, gamma=0.0001, kernel=rbf;, score=0.429 total time=   0.0s\n",
            "[CV 9/10] END ..C=500, gamma=0.0001, kernel=rbf;, score=0.415 total time=   0.0s\n",
            "[CV 10/10] END .C=500, gamma=0.0001, kernel=rbf;, score=0.561 total time=   0.0s\n",
            "[CV 1/10] END ......C=1000, gamma=1, kernel=rbf;, score=0.500 total time=   0.0s\n",
            "[CV 2/10] END ......C=1000, gamma=1, kernel=rbf;, score=0.381 total time=   0.0s\n",
            "[CV 3/10] END ......C=1000, gamma=1, kernel=rbf;, score=0.405 total time=   0.0s\n",
            "[CV 4/10] END ......C=1000, gamma=1, kernel=rbf;, score=0.310 total time=   0.0s\n",
            "[CV 5/10] END ......C=1000, gamma=1, kernel=rbf;, score=0.405 total time=   0.0s\n",
            "[CV 6/10] END ......C=1000, gamma=1, kernel=rbf;, score=0.429 total time=   0.0s\n",
            "[CV 7/10] END ......C=1000, gamma=1, kernel=rbf;, score=0.476 total time=   0.0s\n",
            "[CV 8/10] END ......C=1000, gamma=1, kernel=rbf;, score=0.548 total time=   0.0s\n",
            "[CV 9/10] END ......C=1000, gamma=1, kernel=rbf;, score=0.390 total time=   0.0s\n",
            "[CV 10/10] END .....C=1000, gamma=1, kernel=rbf;, score=0.439 total time=   0.0s\n",
            "[CV 1/10] END ....C=1000, gamma=0.1, kernel=rbf;, score=0.476 total time=   0.0s\n",
            "[CV 2/10] END ....C=1000, gamma=0.1, kernel=rbf;, score=0.429 total time=   0.0s\n",
            "[CV 3/10] END ....C=1000, gamma=0.1, kernel=rbf;, score=0.429 total time=   0.0s\n",
            "[CV 4/10] END ....C=1000, gamma=0.1, kernel=rbf;, score=0.595 total time=   0.0s\n",
            "[CV 5/10] END ....C=1000, gamma=0.1, kernel=rbf;, score=0.452 total time=   0.0s\n",
            "[CV 6/10] END ....C=1000, gamma=0.1, kernel=rbf;, score=0.619 total time=   0.0s\n",
            "[CV 7/10] END ....C=1000, gamma=0.1, kernel=rbf;, score=0.524 total time=   0.0s\n",
            "[CV 8/10] END ....C=1000, gamma=0.1, kernel=rbf;, score=0.571 total time=   0.0s\n",
            "[CV 9/10] END ....C=1000, gamma=0.1, kernel=rbf;, score=0.439 total time=   0.0s\n",
            "[CV 10/10] END ...C=1000, gamma=0.1, kernel=rbf;, score=0.537 total time=   0.0s\n",
            "[CV 1/10] END ...C=1000, gamma=0.01, kernel=rbf;, score=0.476 total time=   0.0s\n",
            "[CV 2/10] END ...C=1000, gamma=0.01, kernel=rbf;, score=0.405 total time=   0.0s\n",
            "[CV 3/10] END ...C=1000, gamma=0.01, kernel=rbf;, score=0.357 total time=   0.0s\n",
            "[CV 4/10] END ...C=1000, gamma=0.01, kernel=rbf;, score=0.452 total time=   0.0s\n",
            "[CV 5/10] END ...C=1000, gamma=0.01, kernel=rbf;, score=0.381 total time=   0.0s\n",
            "[CV 6/10] END ...C=1000, gamma=0.01, kernel=rbf;, score=0.524 total time=   0.0s\n",
            "[CV 7/10] END ...C=1000, gamma=0.01, kernel=rbf;, score=0.452 total time=   0.0s\n",
            "[CV 8/10] END ...C=1000, gamma=0.01, kernel=rbf;, score=0.500 total time=   0.0s\n",
            "[CV 9/10] END ...C=1000, gamma=0.01, kernel=rbf;, score=0.488 total time=   0.0s\n",
            "[CV 10/10] END ..C=1000, gamma=0.01, kernel=rbf;, score=0.634 total time=   0.0s\n",
            "[CV 1/10] END ..C=1000, gamma=0.001, kernel=rbf;, score=0.452 total time=   0.0s\n",
            "[CV 2/10] END ..C=1000, gamma=0.001, kernel=rbf;, score=0.476 total time=   0.0s\n",
            "[CV 3/10] END ..C=1000, gamma=0.001, kernel=rbf;, score=0.357 total time=   0.0s\n",
            "[CV 4/10] END ..C=1000, gamma=0.001, kernel=rbf;, score=0.476 total time=   0.0s\n",
            "[CV 5/10] END ..C=1000, gamma=0.001, kernel=rbf;, score=0.381 total time=   0.0s\n",
            "[CV 6/10] END ..C=1000, gamma=0.001, kernel=rbf;, score=0.548 total time=   0.0s\n",
            "[CV 7/10] END ..C=1000, gamma=0.001, kernel=rbf;, score=0.476 total time=   0.0s\n",
            "[CV 8/10] END ..C=1000, gamma=0.001, kernel=rbf;, score=0.524 total time=   0.0s\n",
            "[CV 9/10] END ..C=1000, gamma=0.001, kernel=rbf;, score=0.415 total time=   0.0s\n",
            "[CV 10/10] END .C=1000, gamma=0.001, kernel=rbf;, score=0.634 total time=   0.0s\n",
            "[CV 1/10] END .C=1000, gamma=0.0001, kernel=rbf;, score=0.452 total time=   0.0s\n",
            "[CV 2/10] END .C=1000, gamma=0.0001, kernel=rbf;, score=0.405 total time=   0.0s\n",
            "[CV 3/10] END .C=1000, gamma=0.0001, kernel=rbf;, score=0.429 total time=   0.0s\n",
            "[CV 4/10] END .C=1000, gamma=0.0001, kernel=rbf;, score=0.429 total time=   0.0s\n",
            "[CV 5/10] END .C=1000, gamma=0.0001, kernel=rbf;, score=0.381 total time=   0.0s\n",
            "[CV 6/10] END .C=1000, gamma=0.0001, kernel=rbf;, score=0.595 total time=   0.0s\n",
            "[CV 7/10] END .C=1000, gamma=0.0001, kernel=rbf;, score=0.500 total time=   0.0s\n",
            "[CV 8/10] END .C=1000, gamma=0.0001, kernel=rbf;, score=0.429 total time=   0.0s\n",
            "[CV 9/10] END .C=1000, gamma=0.0001, kernel=rbf;, score=0.415 total time=   0.0s\n",
            "[CV 10/10] END C=1000, gamma=0.0001, kernel=rbf;, score=0.561 total time=   0.0s\n",
            "Best: 0.507085 using {'C': 1000, 'gamma': 0.1, 'kernel': 'rbf'}\n"
          ]
        }
      ]
    },
    {
      "cell_type": "code",
      "source": [
        "model_SVC = SVC(C=500,gamma=0.1, kernel='rbf')\n",
        "model_SVC.fit(X_train,Y_train) \n",
        "\n",
        "predictions=model_SVC.predict(X_test)\n",
        "\n",
        "print(accuracy_score(Y_test,predictions))\n",
        "print(confusion_matrix(Y_test,predictions))\n",
        "print(classification_report(Y_test,predictions))"
      ],
      "metadata": {
        "colab": {
          "base_uri": "https://localhost:8080/"
        },
        "id": "b54Sz4rhaGAP",
        "outputId": "c1887530-886c-432c-ede6-639f64d52832"
      },
      "execution_count": 44,
      "outputs": [
        {
          "output_type": "stream",
          "name": "stdout",
          "text": [
            "0.5531914893617021\n",
            "[[16  3]\n",
            " [18 10]]\n",
            "              precision    recall  f1-score   support\n",
            "\n",
            "           0       0.47      0.84      0.60        19\n",
            "           1       0.77      0.36      0.49        28\n",
            "\n",
            "    accuracy                           0.55        47\n",
            "   macro avg       0.62      0.60      0.55        47\n",
            "weighted avg       0.65      0.55      0.53        47\n",
            "\n"
          ]
        }
      ]
    }
  ]
}